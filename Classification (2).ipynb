{
  "nbformat": 4,
  "nbformat_minor": 0,
  "metadata": {
    "colab": {
      "provenance": []
    },
    "kernelspec": {
      "name": "python3",
      "display_name": "Python 3"
    },
    "language_info": {
      "name": "python"
    }
  },
  "cells": [
    {
      "cell_type": "code",
      "source": [
        "import pandas as pd\n",
        "from sklearn.model_selection import train_test_split\n",
        "from sklearn.preprocessing import LabelEncoder\n",
        "from sklearn.ensemble import RandomForestClassifier\n",
        "from sklearn.metrics import accuracy_score, classification_report, confusion_matrix\n",
        "\n",
        "url = \"student-por.csv\"\n",
        "df = pd.read_csv(url, sep=\";\")\n",
        "\n",
        "label_encoder = LabelEncoder()\n",
        "categorical_cols = df.select_dtypes(include=['object']).columns\n",
        "df[categorical_cols] = df[categorical_cols].apply(label_encoder.fit_transform)\n",
        "\n",
        "threshold = 5\n",
        "\n",
        "# Binary target variable\n",
        "df['at_risk'] = df['G3'] < threshold\n",
        "\n",
        "# Drop the original target variables G1, G2, G3\n",
        "df = df.drop(['G1', 'G2', 'G3'], axis=1)\n",
        "\n",
        "# Specify the columns to include in the feature set X\n",
        "selected_columns = ['Medu', 'Fedu', 'schoolsup', 'famsup']\n",
        "X = df[selected_columns]\n",
        "y = df['at_risk']\n",
        "\n",
        "# Split the dataset into training and testing sets\n",
        "X_train, X_test, y_train, y_test = train_test_split(X, y, test_size=0.2, random_state=42)\n",
        "\n",
        "# Initialize and train the model\n",
        "model = RandomForestClassifier(random_state=42)\n",
        "model.fit(X_train, y_train)\n",
        "\n",
        "# Make predictions on the test set\n",
        "predictions = model.predict(X_test)\n",
        "\n",
        "# Evaluate the model\n",
        "accuracy = accuracy_score(y_test, predictions)\n",
        "print(f'Accuracy: {accuracy}')\n",
        "\n",
        "print(\"\\nClassification Report:\")\n",
        "print(classification_report(y_test, predictions))\n",
        "\n",
        "print(\"\\nConfusion Matrix:\")\n",
        "print(confusion_matrix(y_test, predictions))\n"
      ],
      "metadata": {
        "colab": {
          "base_uri": "https://localhost:8080/"
        },
        "id": "7zJjKJtYeHMd",
        "outputId": "8fcf15ee-458f-46be-cb91-06b6f448d7a3"
      },
      "execution_count": 21,
      "outputs": [
        {
          "output_type": "stream",
          "name": "stdout",
          "text": [
            "Accuracy: 0.9769230769230769\n",
            "\n",
            "Classification Report:\n",
            "              precision    recall  f1-score   support\n",
            "\n",
            "       False       0.98      0.99      0.99       128\n",
            "        True       0.00      0.00      0.00         2\n",
            "\n",
            "    accuracy                           0.98       130\n",
            "   macro avg       0.49      0.50      0.49       130\n",
            "weighted avg       0.97      0.98      0.97       130\n",
            "\n",
            "\n",
            "Confusion Matrix:\n",
            "[[127   1]\n",
            " [  2   0]]\n"
          ]
        }
      ]
    },
    {
      "cell_type": "code",
      "source": [
        "# Collect input from the user/student\n",
        "new_data = {'Medu': int(input('Enter mother\\'s education (numeric): ')),\n",
        "            'Fedu': int(input('Enter father\\'s education (numeric): ')),\n",
        "            'schoolsup': input('Does the student receive extra educational support? (yes/no): ').lower(),\n",
        "            'famsup': input('Does the student receive family support? (yes/no): ').lower()}\n",
        "\n",
        "# Create a DataFrame from the user input\n",
        "new_df = pd.DataFrame([new_data])\n",
        "\n",
        "# Map categorical input to numerical values\n",
        "for col in categorical_cols:\n",
        "    if col in new_data:\n",
        "        new_df[col] = label_encoder.transform([new_data[col]])\n",
        "\n",
        "# Make predictions on the new data\n",
        "new_predictions = model.predict(new_df[selected_columns])\n",
        "\n",
        "# Display the prediction\n",
        "if new_predictions[0]:\n",
        "    print('The student is predicted to be at risk.')\n",
        "else:\n",
        "    print('The student is predicted not to be at risk.')\n"
      ],
      "metadata": {
        "colab": {
          "base_uri": "https://localhost:8080/"
        },
        "id": "vOEGvN0xk3VJ",
        "outputId": "3db0903e-a60a-4f07-d666-1df42e67bef4"
      },
      "execution_count": 30,
      "outputs": [
        {
          "output_type": "stream",
          "name": "stdout",
          "text": [
            "Enter mother's education (numeric): 1\n",
            "Enter father's education (numeric): 5\n",
            "Does the student receive extra educational support? (yes/no): yes\n",
            "Does the student receive family support? (yes/no): yes\n",
            "The student is predicted not to be at risk.\n"
          ]
        }
      ]
    }
  ]
}