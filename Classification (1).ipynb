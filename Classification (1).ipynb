{
  "nbformat": 4,
  "nbformat_minor": 0,
  "metadata": {
    "colab": {
      "provenance": []
    },
    "kernelspec": {
      "name": "python3",
      "display_name": "Python 3"
    },
    "language_info": {
      "name": "python"
    }
  },
  "cells": [
    {
      "cell_type": "code",
      "source": [
        "import pandas as pd\n",
        "from sklearn.model_selection import train_test_split\n",
        "from sklearn.preprocessing import LabelEncoder\n",
        "from sklearn.ensemble import RandomForestClassifier\n",
        "from sklearn.metrics import accuracy_score, classification_report, confusion_matrix\n",
        "\n",
        "\n",
        "url = \"student-por.csv\"\n",
        "df = pd.read_csv(url, sep=\";\")\n",
        "\n",
        "\n",
        "print(df.columns)\n",
        "\n",
        "label_encoder = LabelEncoder()\n",
        "categorical_cols = df.select_dtypes(include=['object']).columns\n",
        "df[categorical_cols] = df[categorical_cols].apply(label_encoder.fit_transform)\n",
        "\n",
        "\n",
        "threshold = 5\n",
        "\n",
        "# binary target variable\n",
        "df['at_risk'] = df['G3'] < threshold\n",
        "\n",
        "# Drop the original target variables G1, G2, G3\n",
        "df = df.drop(['G1', 'G2', 'G3'], axis=1)\n",
        "\n",
        "# Split the dataset into training and testing sets\n",
        "X = df.drop('at_risk', axis=1)\n",
        "y = df['at_risk']\n",
        "X_train, X_test, y_train, y_test = train_test_split(X, y, test_size=0.2, random_state=42)\n",
        "\n",
        "# Initialize and train the model\n",
        "model = RandomForestClassifier(random_state=42)\n",
        "model.fit(X_train, y_train)\n",
        "\n",
        "# Make predictions on the test set\n",
        "predictions = model.predict(X_test)\n",
        "\n",
        "# Evaluate the model\n",
        "accuracy = accuracy_score(y_test, predictions)\n",
        "print(f'Accuracy: {accuracy}')\n",
        "\n",
        "print(\"\\nClassification Report:\")\n",
        "print(classification_report(y_test, predictions))\n",
        "\n",
        "print(\"\\nConfusion Matrix:\")\n",
        "print(confusion_matrix(y_test, predictions))\n"
      ],
      "metadata": {
        "colab": {
          "base_uri": "https://localhost:8080/"
        },
        "id": "7zJjKJtYeHMd",
        "outputId": "89213450-1f48-427e-b4d2-dbcc72338019"
      },
      "execution_count": 14,
      "outputs": [
        {
          "output_type": "stream",
          "name": "stdout",
          "text": [
            "Index(['school', 'sex', 'age', 'address', 'famsize', 'Pstatus', 'Medu', 'Fedu',\n",
            "       'Mjob', 'Fjob', 'reason', 'guardian', 'traveltime', 'studytime',\n",
            "       'failures', 'schoolsup', 'famsup', 'paid', 'activities', 'nursery',\n",
            "       'higher', 'internet', 'romantic', 'famrel', 'freetime', 'goout', 'Dalc',\n",
            "       'Walc', 'health', 'absences', 'G1', 'G2', 'G3'],\n",
            "      dtype='object')\n",
            "Accuracy: 0.9846153846153847\n",
            "\n",
            "Classification Report:\n",
            "              precision    recall  f1-score   support\n",
            "\n",
            "       False       0.98      1.00      0.99       128\n",
            "        True       0.00      0.00      0.00         2\n",
            "\n",
            "    accuracy                           0.98       130\n",
            "   macro avg       0.49      0.50      0.50       130\n",
            "weighted avg       0.97      0.98      0.98       130\n",
            "\n",
            "\n",
            "Confusion Matrix:\n",
            "[[128   0]\n",
            " [  2   0]]\n"
          ]
        },
        {
          "output_type": "stream",
          "name": "stderr",
          "text": [
            "/usr/local/lib/python3.10/dist-packages/sklearn/metrics/_classification.py:1344: UndefinedMetricWarning: Precision and F-score are ill-defined and being set to 0.0 in labels with no predicted samples. Use `zero_division` parameter to control this behavior.\n",
            "  _warn_prf(average, modifier, msg_start, len(result))\n",
            "/usr/local/lib/python3.10/dist-packages/sklearn/metrics/_classification.py:1344: UndefinedMetricWarning: Precision and F-score are ill-defined and being set to 0.0 in labels with no predicted samples. Use `zero_division` parameter to control this behavior.\n",
            "  _warn_prf(average, modifier, msg_start, len(result))\n",
            "/usr/local/lib/python3.10/dist-packages/sklearn/metrics/_classification.py:1344: UndefinedMetricWarning: Precision and F-score are ill-defined and being set to 0.0 in labels with no predicted samples. Use `zero_division` parameter to control this behavior.\n",
            "  _warn_prf(average, modifier, msg_start, len(result))\n"
          ]
        }
      ]
    }
  ]
}